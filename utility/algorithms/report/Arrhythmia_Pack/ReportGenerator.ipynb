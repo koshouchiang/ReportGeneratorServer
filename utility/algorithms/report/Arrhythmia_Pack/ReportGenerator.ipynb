{
 "cells": [
  {
   "cell_type": "code",
   "execution_count": 2,
   "metadata": {
    "tags": []
   },
   "outputs": [
    {
     "ename": "ModuleNotFoundError",
     "evalue": "No module named 'Arrhythmia_Pack'",
     "output_type": "error",
     "traceback": [
      "\u001b[1;31m---------------------------------------------------------------------------\u001b[0m",
      "\u001b[1;31mModuleNotFoundError\u001b[0m                       Traceback (most recent call last)",
      "\u001b[1;32m~\\AppData\\Local\\Temp/ipykernel_17068/1806446277.py\u001b[0m in \u001b[0;36m<module>\u001b[1;34m\u001b[0m\n\u001b[1;32m----> 1\u001b[1;33m \u001b[1;32mfrom\u001b[0m \u001b[0marrhythmia\u001b[0m\u001b[1;33m.\u001b[0m\u001b[0manalysis_v2\u001b[0m \u001b[1;32mimport\u001b[0m \u001b[0mArrhythmiaDetection\u001b[0m\u001b[1;33m\u001b[0m\u001b[1;33m\u001b[0m\u001b[0m\n\u001b[0m\u001b[0;32m      2\u001b[0m \u001b[1;33m\u001b[0m\u001b[0m\n\u001b[0;32m      3\u001b[0m \u001b[1;31m# evtFile = \"./test_data/SWMInHouse_546C0ED02610_1621268901344.evt\"\u001b[0m\u001b[1;33m\u001b[0m\u001b[1;33m\u001b[0m\u001b[1;33m\u001b[0m\u001b[0m\n\u001b[0;32m      4\u001b[0m \u001b[1;31m# srjFile = \"./test_data/SWMInHouse_546C0ED02610_1621268901344.srj\"\u001b[0m\u001b[1;33m\u001b[0m\u001b[1;33m\u001b[0m\u001b[1;33m\u001b[0m\u001b[0m\n\u001b[0;32m      5\u001b[0m \u001b[1;31m# userInfo = {\"id\":\"SRJTEST01\",\u001b[0m\u001b[1;33m\u001b[0m\u001b[1;33m\u001b[0m\u001b[1;33m\u001b[0m\u001b[0m\n",
      "\u001b[1;32mc:\\Users\\User\\Desktop\\Python專案\\防疫專案\\Arrhythmia_Report\\Arrhythmia_Pack\\arrhythmia\\analysis_v2.py\u001b[0m in \u001b[0;36m<module>\u001b[1;34m\u001b[0m\n\u001b[1;32m----> 1\u001b[1;33m \u001b[1;32mfrom\u001b[0m \u001b[0mArrhythmia_Pack\u001b[0m \u001b[1;32mimport\u001b[0m \u001b[0mecg\u001b[0m\u001b[1;33m\u001b[0m\u001b[1;33m\u001b[0m\u001b[0m\n\u001b[0m\u001b[0;32m      2\u001b[0m \u001b[1;32mimport\u001b[0m \u001b[0mnumpy\u001b[0m \u001b[1;32mas\u001b[0m \u001b[0mnp\u001b[0m\u001b[1;33m\u001b[0m\u001b[1;33m\u001b[0m\u001b[0m\n\u001b[0;32m      3\u001b[0m \u001b[1;32mimport\u001b[0m \u001b[0mos\u001b[0m\u001b[1;33m,\u001b[0m \u001b[0mtime\u001b[0m\u001b[1;33m,\u001b[0m \u001b[0msys\u001b[0m\u001b[1;33m,\u001b[0m \u001b[0mjson\u001b[0m\u001b[1;33m\u001b[0m\u001b[1;33m\u001b[0m\u001b[0m\n\u001b[0;32m      4\u001b[0m \u001b[1;31m#os.environ[\"OMP_NUM_THREADS\"] = \"1\"\u001b[0m\u001b[1;33m\u001b[0m\u001b[1;33m\u001b[0m\u001b[1;33m\u001b[0m\u001b[0m\n\u001b[0;32m      5\u001b[0m \u001b[1;32mfrom\u001b[0m \u001b[0mdatetime\u001b[0m \u001b[1;32mimport\u001b[0m \u001b[0mdatetime\u001b[0m\u001b[1;33m,\u001b[0m \u001b[0mtimedelta\u001b[0m\u001b[1;33m\u001b[0m\u001b[1;33m\u001b[0m\u001b[0m\n",
      "\u001b[1;31mModuleNotFoundError\u001b[0m: No module named 'Arrhythmia_Pack'"
     ]
    }
   ],
   "source": [
    "from arrhythmia.analysis_v2 import ArrhythmiaDetection\n",
    "\n",
    "# evtFile = \"./test_data/SWMInHouse_546C0ED02610_1621268901344.evt\"\n",
    "# srjFile = \"./test_data/SWMInHouse_546C0ED02610_1621268901344.srj\"\n",
    "# userInfo = {\"id\":\"SRJTEST01\",\n",
    "#             \"name\":\"Vicent\",\n",
    "#             \"email\":\"NA\",\n",
    "#             \"gender\":\"NA\",\n",
    "#             \"height\":\"NA\",\n",
    "#             \"weight\":\"NA\",\n",
    "#             \"birthday\":\"NA\",\n",
    "#             \"age\":\"NA\"\n",
    "#             }\n",
    "evtFile = \"./test_data/91_1641964044044_546C0ED03748.evt\"\n",
    "srjFile = \"./test_data/91_1641964044044_546C0ED03748.evt\"\n",
    "userInfo = {\"id\":\"91\",\n",
    "            \"name\":\"David\",\n",
    "            \"email\":\"NA\",\n",
    "            \"gender\":\"NA\",\n",
    "            \"height\":\"NA\",\n",
    "            \"weight\":\"NA\",\n",
    "            \"birthday\":\"NA\",\n",
    "            \"age\":\"NA\"\n",
    "            }\n",
    "\n",
    "AD = ArrhythmiaDetection(srjPath=srjFile, evtPath=evtFile, userInfo=userInfo)\n",
    "Report = AD.genReport(gpu=1,multi_proc=True,Mode='All')"
   ]
  },
  {
   "cell_type": "code",
   "execution_count": 3,
   "metadata": {},
   "outputs": [
    {
     "name": "stdout",
     "output_type": "stream",
     "text": [
      "797\n"
     ]
    }
   ],
   "source": [
    "print(len(Report['ir_events']))"
   ]
  },
  {
   "cell_type": "code",
   "execution_count": 2,
   "metadata": {},
   "outputs": [],
   "source": [
    "import json\n",
    "ref_path = \"./Report_old.json\"\n",
    "with open(ref_path, 'r') as f:\n",
    "    line = f.readline()\n",
    "    refReport = json.loads(line)"
   ]
  },
  {
   "cell_type": "code",
   "execution_count": 3,
   "metadata": {
    "tags": []
   },
   "outputs": [
    {
     "name": "stdout",
     "output_type": "stream",
     "text": [
      "type , Same\n",
      "version , Same\n",
      "report_datetime , Not Same\n",
      "measure_start_datetime , Same\n",
      "measure_end_datetime , Same\n",
      "user_info , Same\n",
      "ir_statistics , Same\n",
      "ir_events , Same\n",
      "max_hr_physio , Same\n",
      "min_hr_physio , Same\n",
      "note , Same\n"
     ]
    }
   ],
   "source": [
    "for key in Report.keys():\n",
    "    if Report[key] == refReport[key]:\n",
    "        print(key, ', Same')\n",
    "    else:\n",
    "        print(key, ', Not Same')"
   ]
  },
  {
   "cell_type": "code",
   "execution_count": null,
   "metadata": {},
   "outputs": [],
   "source": []
  }
 ],
 "metadata": {
  "interpreter": {
   "hash": "10385ddd246f550e7067f180f4f232d5cedb2ee0eaba8b0c683ba3b06d151ca8"
  },
  "kernelspec": {
   "display_name": "Python 3.9.2 64-bit ('pytorch': conda)",
   "name": "python3"
  },
  "language_info": {
   "codemirror_mode": {
    "name": "ipython",
    "version": 3
   },
   "file_extension": ".py",
   "mimetype": "text/x-python",
   "name": "python",
   "nbconvert_exporter": "python",
   "pygments_lexer": "ipython3",
   "version": "3.8.11"
  },
  "orig_nbformat": 2
 },
 "nbformat": 4,
 "nbformat_minor": 2
}

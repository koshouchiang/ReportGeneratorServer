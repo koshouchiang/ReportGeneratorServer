{
 "cells": [
  {
   "cell_type": "code",
   "execution_count": 1,
   "source": [
    "import os\r\n",
    "import scipy.io as sio\r\n",
    "import numpy as np\r\n",
    "import rri\r\n",
    "import joblib\r\n",
    "import matplotlib.pyplot as plt\r\n",
    "\r\n",
    "filepath = \"./SWMInHouse_546C0ED02610_1621268901344_Vicent_sleep_0518.mat\"\r\n",
    "\r\n",
    "# Load .mat file\r\n",
    "MAT = sio.loadmat(filepath)\r\n",
    "ecgLen = MAT['len_ECG'][0][0]\r\n",
    "Fs = MAT['Fs'][0][0]\r\n",
    "R = MAT['R'].flatten()\r\n",
    "Rm = MAT['Rm'].flatten()\r\n",
    "Ridx = np.union1d(R, Rm)\r\n",
    "\r\n",
    "# Calculate N-N intervals\r\n",
    "window = 5*60*Fs # 5 minutes\r\n",
    "segNum = ecgLen//window\r\n",
    "Datas = []\r\n",
    "for seg in range(segNum):\r\n",
    "    segment = np.arange(seg*window,(seg+1)*window)\r\n",
    "    covered_beat = np.intersect1d(Ridx,segment)\r\n",
    "    NNIs = rri.filter(covered_beat, Fs)\r\n",
    "    if len(NNIs)>0:\r\n",
    "        Datas.append(NNIs)\r\n",
    "\r\n",
    "# Extract Features\r\n",
    "feature_list = {'time':True,'freq':True,'poincare':False}\r\n",
    "Features = []\r\n",
    "for data in Datas:\r\n",
    "    feature_name, feature_value = rri.get_features(data,feature_list)\r\n",
    "    Features.append(feature_value)\r\n",
    "\r\n",
    "# Load model and predict\r\n",
    "model = joblib.load(\"./clf_mixed.pkl\")\r\n",
    "pred = model.predict(Features)\r\n",
    "\r\n",
    "# Plot figure\r\n",
    "stage = []\r\n",
    "for p in pred:\r\n",
    "    if p == 0:\r\n",
    "        stage.append(0)\r\n",
    "    if p == 1:\r\n",
    "        stage.append(-2)\r\n",
    "    if p == 2:\r\n",
    "        stage.append(-3)\r\n",
    "    if p == 3:\r\n",
    "        stage.append(-1)\r\n",
    "tt = np.arange(0,5*len(stage),5)\r\n",
    "fig, ax = plt.subplots()\r\n",
    "ax.step(tt, stage, where='post')\r\n",
    "ax.set_yticks(range(0,-4,-1))\r\n",
    "ax.set_yticklabels(['Awake','REM','Light','Deep'])\r\n",
    "ax.set_xticks(range(0,tt[-1],60))\r\n",
    "ax.set_xlabel('Minutes')\r\n",
    "ax.grid(alpha=0.3)\r\n",
    "ax.set_facecolor('w')"
   ],
   "outputs": [
    {
     "output_type": "display_data",
     "data": {
      "text/plain": [
       "<Figure size 432x288 with 1 Axes>"
      ],
      "image/png": "[encoded data removed]"
     },
     "metadata": {
      "needs_background": "light"
     }
    }
   ],
   "metadata": {}
  }
 ],
 "metadata": {
  "orig_nbformat": 4,
  "language_info": {
   "name": "python",
   "version": "3.8.5",
   "mimetype": "text/x-python",
   "codemirror_mode": {
    "name": "ipython",
    "version": 3
   },
   "pygments_lexer": "ipython3",
   "nbconvert_exporter": "python",
   "file_extension": ".py"
  },
  "kernelspec": {
   "name": "python3",
   "display_name": "Python 3.8.5 64-bit ('base': conda)"
  },
  "interpreter": {
   "hash": "8fac594bfae6525c0c41b4041d2d72effa188cc8ead05f81b1fab2bb098927fb"
  }
 },
 "nbformat": 4,
 "nbformat_minor": 2
}